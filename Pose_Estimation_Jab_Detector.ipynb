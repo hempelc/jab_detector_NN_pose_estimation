{
 "cells": [
  {
   "cell_type": "markdown",
   "id": "focal-recognition",
   "metadata": {},
   "source": [
    "# _Pose estimation on videos unsing a Neural Network and OpenCV to detect boxing jabs_"
   ]
  },
  {
   "cell_type": "markdown",
   "id": "federal-chair",
   "metadata": {},
   "source": [
    "This notebook estimates poses of people in videos by detecting joints using a Neural Network and connecting the joints. The joints and their connections are then used to predict if the person is doing a boxing jab. \n",
    "\n",
    "Therefore, we load a pre-trained Neural Network and apply it to a video or live through a webcam.\n",
    "Then, we do some magic that isn't figured out yet and our program will tell us whenever it detects a boxing jab."
   ]
  },
  {
   "cell_type": "markdown",
   "id": "played-complex",
   "metadata": {},
   "source": [
    "The Neural Network and code to run the pose estimation is taken from https://github.com/quanhua92/human-pose-estimation-opencv"
   ]
  },
  {
   "cell_type": "markdown",
   "id": "utility-editor",
   "metadata": {},
   "source": [
    "# 1. Prerequisites"
   ]
  },
  {
   "cell_type": "markdown",
   "id": "golden-refrigerator",
   "metadata": {},
   "source": [
    "Load the OpenCV module"
   ]
  },
  {
   "cell_type": "code",
   "execution_count": 4,
   "id": "amber-andrews",
   "metadata": {},
   "outputs": [],
   "source": [
    "import cv2 as cv"
   ]
  },
  {
   "cell_type": "markdown",
   "id": "center-forum",
   "metadata": {},
   "source": [
    "Load the pre-trained Neural Network"
   ]
  },
  {
   "cell_type": "code",
   "execution_count": 5,
   "id": "welsh-island",
   "metadata": {},
   "outputs": [],
   "source": [
    "NN = cv.dnn.readNetFromTensorflow(\"graph_opt.pb\")"
   ]
  },
  {
   "cell_type": "markdown",
   "id": "alien-maine",
   "metadata": {},
   "source": [
    "Set some default parameters"
   ]
  },
  {
   "cell_type": "code",
   "execution_count": 6,
   "id": "creative-relations",
   "metadata": {},
   "outputs": [],
   "source": [
    "# Resize input to specific width\n",
    "inwidth = 368\n",
    "# Resize input to specific height\n",
    "inheight = 368\n",
    "# Threshold value for pose parts heat map\n",
    "thr = 0.2\n",
    "\n",
    "# Body part detection and pairing\n",
    "## Adopted from: https://github.com/opencv/opencv/blob/master/samples/dnn/openpose.py\n",
    "\n",
    "BODY_PARTS = { \"Nose\": 0, \"Neck\": 1, \"RShoulder\": 2, \"RElbow\": 3, \"RWrist\": 4,\n",
    "                \"LShoulder\": 5, \"LElbow\": 6, \"LWrist\": 7, \"RHip\": 8, \"RKnee\": 9,\n",
    "                \"RAnkle\": 10, \"LHip\": 11, \"LKnee\": 12, \"LAnkle\": 13, \"REye\": 14,\n",
    "                \"LEye\": 15, \"REar\": 16, \"LEar\": 17, \"Background\": 18 }\n",
    "\n",
    "POSE_PAIRS = [ [\"Neck\", \"RShoulder\"], [\"Neck\", \"LShoulder\"], [\"RShoulder\", \"RElbow\"],\n",
    "                [\"RElbow\", \"RWrist\"], [\"LShoulder\", \"LElbow\"], [\"LElbow\", \"LWrist\"],\n",
    "                [\"Neck\", \"RHip\"], [\"RHip\", \"RKnee\"], [\"RKnee\", \"RAnkle\"], [\"Neck\", \"LHip\"],\n",
    "                [\"LHip\", \"LKnee\"], [\"LKnee\", \"LAnkle\"], [\"Neck\", \"Nose\"], [\"Nose\", \"REye\"],\n",
    "                [\"REye\", \"REar\"], [\"Nose\", \"LEye\"], [\"LEye\", \"LEar\"] ]"
   ]
  },
  {
   "cell_type": "markdown",
   "id": "approximate-planet",
   "metadata": {},
   "source": [
    "# 2. Apply pose estimation to video\n"
   ]
  },
  {
   "cell_type": "markdown",
   "id": "proved-preservation",
   "metadata": {},
   "source": [
    "Set the video to use"
   ]
  },
  {
   "cell_type": "code",
   "execution_count": 1,
   "id": "juvenile-secondary",
   "metadata": {},
   "outputs": [],
   "source": [
    "video = 'The_Boxing_Jab_with_Jeff_Mayweather_Trim.mp4'"
   ]
  },
  {
   "cell_type": "markdown",
   "id": "buried-array",
   "metadata": {},
   "source": [
    "Open the video and graph pose estimation on video"
   ]
  },
  {
   "cell_type": "code",
   "execution_count": 5,
   "id": "mechanical-password",
   "metadata": {},
   "outputs": [],
   "source": [
    "jab = cv.VideoCapture(video)\n",
    "\n",
    "while cv.waitKey(1)<0:\n",
    "    hasFrame,frame = jab.read()\n",
    "\n",
    "    frameWidth = frame.shape[1]\n",
    "    frameHeight = frame.shape[0]\n",
    "    \n",
    "    NN.setInput(cv.dnn.blobFromImage(frame, 1.0, (inwidth, inheight), (127.5, 127.5, 127.5), swapRB=True, crop=False))\n",
    "    out = NN.forward()\n",
    "\n",
    "    out = out[:, :19, :, :]  # MobileNet output [1, 57, -1, -1], we only need the first 19 elements\n",
    "\n",
    "    assert(len(BODY_PARTS) == out.shape[1])\n",
    "\n",
    "    points = []\n",
    "    for i in range(len(BODY_PARTS)):\n",
    "        # Slice heatmap of corresponging body's part.\n",
    "        heatMap = out[0, i, :, :]\n",
    "\n",
    "        # Originally, we try to find all the local maximums. To simplify a sample\n",
    "        # we just find a global one. However only a single pose at the same time\n",
    "        # could be detected this way.\n",
    "        _, conf, _, point = cv.minMaxLoc(heatMap)\n",
    "        x = (frameWidth * point[0]) / out.shape[3]\n",
    "        y = (frameHeight * point[1]) / out.shape[2]\n",
    "        # Add a point if it's confidence is higher than threshold.\n",
    "        points.append((int(x), int(y)) if conf > thr else None)\n",
    "\n",
    "    for pair in POSE_PAIRS:\n",
    "        partFrom = pair[0]\n",
    "        partTo = pair[1]\n",
    "        assert(partFrom in BODY_PARTS)\n",
    "        assert(partTo in BODY_PARTS)\n",
    "\n",
    "        idFrom = BODY_PARTS[partFrom]\n",
    "        idTo = BODY_PARTS[partTo]\n",
    "\n",
    "        if points[idFrom] and points[idTo]:\n",
    "            cv.line(frame, points[idFrom], points[idTo], (0, 255, 0), 3)\n",
    "            cv.ellipse(frame, points[idFrom], (3, 3), 0, 0, 360, (0, 0, 255), cv.FILLED)\n",
    "            cv.ellipse(frame, points[idTo], (3, 3), 0, 0, 360, (0, 0, 255), cv.FILLED)\n",
    "\n",
    "    t, _ = NN.getPerfProfile()\n",
    "    freq = cv.getTickFrequency() / 100\n",
    "    cv.putText(frame, '%.2fms' % (t / freq), (10, 20), cv.FONT_HERSHEY_SIMPLEX, 0.5, (0, 0, 0))\n",
    "    cv.imshow('JabDetector', frame)"
   ]
  },
  {
   "cell_type": "markdown",
   "id": "interesting-dispatch",
   "metadata": {},
   "source": [
    "# 3. Apply pose estimation live through a webcam\n",
    "### Note: the code is written for a Mac webcam"
   ]
  },
  {
   "cell_type": "code",
   "execution_count": 7,
   "id": "alone-silicon",
   "metadata": {},
   "outputs": [
    {
     "ename": "KeyboardInterrupt",
     "evalue": "",
     "output_type": "error",
     "traceback": [
      "\u001b[0;31m---------------------------------------------------------------------------\u001b[0m",
      "\u001b[0;31mKeyboardInterrupt\u001b[0m                         Traceback (most recent call last)",
      "\u001b[0;32m<ipython-input-7-e8c425a06c85>\u001b[0m in \u001b[0;36m<module>\u001b[0;34m\u001b[0m\n\u001b[1;32m     10\u001b[0m \u001b[0;34m\u001b[0m\u001b[0m\n\u001b[1;32m     11\u001b[0m     \u001b[0mNN\u001b[0m\u001b[0;34m.\u001b[0m\u001b[0msetInput\u001b[0m\u001b[0;34m(\u001b[0m\u001b[0mcv\u001b[0m\u001b[0;34m.\u001b[0m\u001b[0mdnn\u001b[0m\u001b[0;34m.\u001b[0m\u001b[0mblobFromImage\u001b[0m\u001b[0;34m(\u001b[0m\u001b[0mframe\u001b[0m\u001b[0;34m,\u001b[0m \u001b[0;36m1.0\u001b[0m\u001b[0;34m,\u001b[0m \u001b[0;34m(\u001b[0m\u001b[0minwidth\u001b[0m\u001b[0;34m,\u001b[0m \u001b[0minheight\u001b[0m\u001b[0;34m)\u001b[0m\u001b[0;34m,\u001b[0m \u001b[0;34m(\u001b[0m\u001b[0;36m127.5\u001b[0m\u001b[0;34m,\u001b[0m \u001b[0;36m127.5\u001b[0m\u001b[0;34m,\u001b[0m \u001b[0;36m127.5\u001b[0m\u001b[0;34m)\u001b[0m\u001b[0;34m,\u001b[0m \u001b[0mswapRB\u001b[0m\u001b[0;34m=\u001b[0m\u001b[0;32mTrue\u001b[0m\u001b[0;34m,\u001b[0m \u001b[0mcrop\u001b[0m\u001b[0;34m=\u001b[0m\u001b[0;32mFalse\u001b[0m\u001b[0;34m)\u001b[0m\u001b[0;34m)\u001b[0m\u001b[0;34m\u001b[0m\u001b[0;34m\u001b[0m\u001b[0m\n\u001b[0;32m---> 12\u001b[0;31m     \u001b[0mout\u001b[0m \u001b[0;34m=\u001b[0m \u001b[0mNN\u001b[0m\u001b[0;34m.\u001b[0m\u001b[0mforward\u001b[0m\u001b[0;34m(\u001b[0m\u001b[0;34m)\u001b[0m\u001b[0;34m\u001b[0m\u001b[0;34m\u001b[0m\u001b[0m\n\u001b[0m\u001b[1;32m     13\u001b[0m \u001b[0;34m\u001b[0m\u001b[0m\n\u001b[1;32m     14\u001b[0m     \u001b[0mout\u001b[0m \u001b[0;34m=\u001b[0m \u001b[0mout\u001b[0m\u001b[0;34m[\u001b[0m\u001b[0;34m:\u001b[0m\u001b[0;34m,\u001b[0m \u001b[0;34m:\u001b[0m\u001b[0;36m19\u001b[0m\u001b[0;34m,\u001b[0m \u001b[0;34m:\u001b[0m\u001b[0;34m,\u001b[0m \u001b[0;34m:\u001b[0m\u001b[0;34m]\u001b[0m  \u001b[0;31m# MobileNet output [1, 57, -1, -1], we only need the first 19 elements\u001b[0m\u001b[0;34m\u001b[0m\u001b[0;34m\u001b[0m\u001b[0m\n",
      "\u001b[0;31mKeyboardInterrupt\u001b[0m: "
     ]
    }
   ],
   "source": [
    "jab = cv.VideoCapture(0)\n",
    "\n",
    "jab.set(cv.CAP_PROP_FPS,1000)\n",
    "\n",
    "while cv.waitKey(1)<0:\n",
    "    hasFrame,frame = jab.read()\n",
    "\n",
    "    frameWidth = frame.shape[1]\n",
    "    frameHeight = frame.shape[0]\n",
    "\n",
    "    NN.setInput(cv.dnn.blobFromImage(frame, 1.0, (inwidth, inheight), (127.5, 127.5, 127.5), swapRB=True, crop=False))\n",
    "    out = NN.forward()\n",
    "\n",
    "    out = out[:, :19, :, :]  # MobileNet output [1, 57, -1, -1], we only need the first 19 elements\n",
    "\n",
    "    assert(len(BODY_PARTS) == out.shape[1])\n",
    "\n",
    "    points = []\n",
    "    for i in range(len(BODY_PARTS)):\n",
    "        # Slice heatmap of corresponging body's part.\n",
    "        heatMap = out[0, i, :, :]\n",
    "\n",
    "        # Originally, we try to find all the local maximums. To simplify a sample\n",
    "        # we just find a global one. However only a single pose at the same time\n",
    "        # could be detected this way.\n",
    "        _, conf, _, point = cv.minMaxLoc(heatMap)\n",
    "        x = (frameWidth * point[0]) / out.shape[3]\n",
    "        y = (frameHeight * point[1]) / out.shape[2]\n",
    "        # Add a point if it's confidence is higher than threshold.\n",
    "        points.append((int(x), int(y)) if conf > thr else None)\n",
    "\n",
    "    for pair in POSE_PAIRS:\n",
    "        partFrom = pair[0]\n",
    "        partTo = pair[1]\n",
    "        assert(partFrom in BODY_PARTS)\n",
    "        assert(partTo in BODY_PARTS)\n",
    "\n",
    "        idFrom = BODY_PARTS[partFrom]\n",
    "        idTo = BODY_PARTS[partTo]\n",
    "\n",
    "        if points[idFrom] and points[idTo]:\n",
    "            cv.line(frame, points[idFrom], points[idTo], (0, 255, 0), 3)\n",
    "            cv.ellipse(frame, points[idFrom], (3, 3), 0, 0, 360, (0, 0, 255), cv.FILLED)\n",
    "            cv.ellipse(frame, points[idTo], (3, 3), 0, 0, 360, (0, 0, 255), cv.FILLED)\n",
    "\n",
    "    t, _ = NN.getPerfProfile()\n",
    "    freq = cv.getTickFrequency() / 1000\n",
    "    cv.putText(frame, '%.2fms' % (t / freq), (10, 20), cv.FONT_HERSHEY_SIMPLEX, 0.5, (0, 0, 0))\n",
    "    cv.imshow('JabTracker', frame)"
   ]
  },
  {
   "cell_type": "markdown",
   "id": "geological-publication",
   "metadata": {},
   "source": [
    "# 4. Do some magic to detect boxing jabs that yet need to be figured out"
   ]
  },
  {
   "cell_type": "markdown",
   "id": "alien-electronics",
   "metadata": {},
   "source": [
    "Got stuck here"
   ]
  }
 ],
 "metadata": {
  "kernelspec": {
   "display_name": "Python 3",
   "language": "python",
   "name": "python3"
  },
  "language_info": {
   "codemirror_mode": {
    "name": "ipython",
    "version": 3
   },
   "file_extension": ".py",
   "mimetype": "text/x-python",
   "name": "python",
   "nbconvert_exporter": "python",
   "pygments_lexer": "ipython3",
   "version": "3.7.9"
  }
 },
 "nbformat": 4,
 "nbformat_minor": 5
}
